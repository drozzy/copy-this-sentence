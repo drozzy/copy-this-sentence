{
 "cells": [
  {
   "cell_type": "markdown",
   "metadata": {},
   "source": [
    "## Dataset setup instructions\n",
    "\n",
    "1. Download data from here (link to data at the top): http://www.statmt.org/lm-benchmark/\n",
    "\n",
    "2. After you extract it, you should have a the folder named `1-billion-word-language-modeling-benchmark-r13output` with two subfolders: `heldout-monolingual.tokenized.shuffled` and `training-monolingual.tokenized.shuffled`. Place this folder in the same folder as this notebook.\n",
    "\n",
    "3. Run the script below\n"
   ]
  },
  {
   "cell_type": "code",
   "execution_count": 1,
   "metadata": {},
   "outputs": [],
   "source": [
    "import os\n",
    "\n",
    "N_TRAINING = 10000\n",
    "N_VALID    = 1000\n",
    "N_TEST     = 1000\n",
    "TOTAL = N_TRAINING + N_VALID + N_TEST\n",
    "\n",
    "training_dir = \"1-billion-word-language-modeling-benchmark-r13output/training-monolingual.tokenized.shuffled\"\n",
    "training_file = \"training.txt\"\n",
    "testing_file = \"testing.txt\"\n",
    "validation_file = \"validation.txt\"\n",
    "\n",
    "train = []\n",
    "valid = []\n",
    "test  = []\n",
    "\n",
    "i = 0\n",
    "curr = train\n",
    "files = os.listdir(training_dir)\n",
    "\n",
    "for name in files:        \n",
    "    with open(os.path.join(training_dir, name), 'r', encoding='utf8') as f:\n",
    "        for line in f:                \n",
    "            l = len(line.split())\n",
    "            if l <= 30:                \n",
    "                curr.append(line)\n",
    "                i += 1\n",
    "                if i >= N_TRAINING:\n",
    "                    curr = valid\n",
    "                if i >= (N_TRAINING + N_VALID):\n",
    "                    curr = test\n",
    "                    \n",
    "            if i >= TOTAL:\n",
    "                break\n",
    "    if i >= TOTAL:\n",
    "        break\n",
    "        \n",
    "assert len(train) == N_TRAINING\n",
    "assert len(valid) == N_VALID\n",
    "assert len(test) == N_TEST\n",
    "\n",
    "def write_to_file(lines, filename):\n",
    "    with open(filename, 'w', encoding='utf8') as s:\n",
    "        for line in lines:\n",
    "            s.write(line)\n",
    "\n",
    "write_to_file(train, training_file)\n",
    "write_to_file(valid, validation_file)\n",
    "write_to_file(test, testing_file)"
   ]
  },
  {
   "cell_type": "code",
   "execution_count": 22,
   "metadata": {},
   "outputs": [],
   "source": [
    "\n",
    "\n"
   ]
  },
  {
   "cell_type": "code",
   "execution_count": null,
   "metadata": {},
   "outputs": [],
   "source": []
  }
 ],
 "metadata": {
  "kernelspec": {
   "display_name": "Python 3",
   "language": "python",
   "name": "python3"
  },
  "language_info": {
   "codemirror_mode": {
    "name": "ipython",
    "version": 3
   },
   "file_extension": ".py",
   "mimetype": "text/x-python",
   "name": "python",
   "nbconvert_exporter": "python",
   "pygments_lexer": "ipython3",
   "version": "3.7.2"
  }
 },
 "nbformat": 4,
 "nbformat_minor": 2
}
